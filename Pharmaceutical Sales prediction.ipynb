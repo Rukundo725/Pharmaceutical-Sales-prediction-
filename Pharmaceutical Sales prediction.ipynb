{
 "cells": [
  {
   "cell_type": "markdown",
   "id": "05119c0d",
   "metadata": {},
   "source": [
    "# Pharmaceutical Sales prediction across multiple stores\n",
    "## Exploratory Data Analysis (EDA)"
   ]
  },
  {
   "cell_type": "code",
   "execution_count": 1,
   "id": "a9000778",
   "metadata": {},
   "outputs": [],
   "source": [
    "# libraries for EDA\n",
    "import pandas as pd\n",
    "import numpy as np\n",
    "import matplotlib.pyplot as plt\n",
    "import seaborn as sns\n",
    "from datetime import datetime"
   ]
  },
  {
   "cell_type": "code",
   "execution_count": 2,
   "id": "56465781",
   "metadata": {},
   "outputs": [],
   "source": [
    "# IMPORTING DATA \n",
    "raw_store_data=pd.read_csv('data/store.csv', )\n",
    "raw_train_data=pd.read_csv('data/train.csv', low_memory=False, parse_dates=True)\n",
    "raw_test_data=pd.read_csv('data/test.csv',  low_memory=False, parse_dates=True)\n",
    "raw_sample_submission_data=pd.read_csv('data/sample_submission.csv')"
   ]
  },
  {
   "cell_type": "markdown",
   "id": "ea300c43",
   "metadata": {},
   "source": [
    "#### COPYING OUR DATA TO NEW DATAFRAMES TO USE IN OUR EDA"
   ]
  },
  {
   "cell_type": "code",
   "execution_count": 3,
   "id": "6bc190b7",
   "metadata": {},
   "outputs": [
    {
     "name": "stdout",
     "output_type": "stream",
     "text": [
      " There are 41088 rows and 2 columns in sample dataframe\n"
     ]
    },
    {
     "data": {
      "text/html": [
       "<div>\n",
       "<style scoped>\n",
       "    .dataframe tbody tr th:only-of-type {\n",
       "        vertical-align: middle;\n",
       "    }\n",
       "\n",
       "    .dataframe tbody tr th {\n",
       "        vertical-align: top;\n",
       "    }\n",
       "\n",
       "    .dataframe thead th {\n",
       "        text-align: right;\n",
       "    }\n",
       "</style>\n",
       "<table border=\"1\" class=\"dataframe\">\n",
       "  <thead>\n",
       "    <tr style=\"text-align: right;\">\n",
       "      <th></th>\n",
       "      <th>Id</th>\n",
       "      <th>Sales</th>\n",
       "    </tr>\n",
       "  </thead>\n",
       "  <tbody>\n",
       "    <tr>\n",
       "      <th>0</th>\n",
       "      <td>1</td>\n",
       "      <td>0</td>\n",
       "    </tr>\n",
       "    <tr>\n",
       "      <th>1</th>\n",
       "      <td>2</td>\n",
       "      <td>0</td>\n",
       "    </tr>\n",
       "    <tr>\n",
       "      <th>2</th>\n",
       "      <td>3</td>\n",
       "      <td>0</td>\n",
       "    </tr>\n",
       "    <tr>\n",
       "      <th>3</th>\n",
       "      <td>4</td>\n",
       "      <td>0</td>\n",
       "    </tr>\n",
       "    <tr>\n",
       "      <th>4</th>\n",
       "      <td>5</td>\n",
       "      <td>0</td>\n",
       "    </tr>\n",
       "  </tbody>\n",
       "</table>\n",
       "</div>"
      ],
      "text/plain": [
       "   Id  Sales\n",
       "0   1      0\n",
       "1   2      0\n",
       "2   3      0\n",
       "3   4      0\n",
       "4   5      0"
      ]
     },
     "execution_count": 3,
     "metadata": {},
     "output_type": "execute_result"
    }
   ],
   "source": [
    "df_sample = raw_sample_submission_data.copy()\n",
    "print(f\" There are {df_sample.shape[0]} rows and {df_sample.shape[1]} columns in sample dataframe\")\n",
    "df_sample.head()"
   ]
  },
  {
   "cell_type": "code",
   "execution_count": 4,
   "id": "def6703d",
   "metadata": {},
   "outputs": [
    {
     "name": "stdout",
     "output_type": "stream",
     "text": [
      " There are 41088 rows and 8 columns in test dataframe\n"
     ]
    },
    {
     "data": {
      "text/html": [
       "<div>\n",
       "<style scoped>\n",
       "    .dataframe tbody tr th:only-of-type {\n",
       "        vertical-align: middle;\n",
       "    }\n",
       "\n",
       "    .dataframe tbody tr th {\n",
       "        vertical-align: top;\n",
       "    }\n",
       "\n",
       "    .dataframe thead th {\n",
       "        text-align: right;\n",
       "    }\n",
       "</style>\n",
       "<table border=\"1\" class=\"dataframe\">\n",
       "  <thead>\n",
       "    <tr style=\"text-align: right;\">\n",
       "      <th></th>\n",
       "      <th>Id</th>\n",
       "      <th>Store</th>\n",
       "      <th>DayOfWeek</th>\n",
       "      <th>Date</th>\n",
       "      <th>Open</th>\n",
       "      <th>Promo</th>\n",
       "      <th>StateHoliday</th>\n",
       "      <th>SchoolHoliday</th>\n",
       "    </tr>\n",
       "  </thead>\n",
       "  <tbody>\n",
       "    <tr>\n",
       "      <th>0</th>\n",
       "      <td>1</td>\n",
       "      <td>1</td>\n",
       "      <td>4</td>\n",
       "      <td>2015-09-17</td>\n",
       "      <td>1.0</td>\n",
       "      <td>1</td>\n",
       "      <td>0</td>\n",
       "      <td>0</td>\n",
       "    </tr>\n",
       "    <tr>\n",
       "      <th>1</th>\n",
       "      <td>2</td>\n",
       "      <td>3</td>\n",
       "      <td>4</td>\n",
       "      <td>2015-09-17</td>\n",
       "      <td>1.0</td>\n",
       "      <td>1</td>\n",
       "      <td>0</td>\n",
       "      <td>0</td>\n",
       "    </tr>\n",
       "    <tr>\n",
       "      <th>2</th>\n",
       "      <td>3</td>\n",
       "      <td>7</td>\n",
       "      <td>4</td>\n",
       "      <td>2015-09-17</td>\n",
       "      <td>1.0</td>\n",
       "      <td>1</td>\n",
       "      <td>0</td>\n",
       "      <td>0</td>\n",
       "    </tr>\n",
       "    <tr>\n",
       "      <th>3</th>\n",
       "      <td>4</td>\n",
       "      <td>8</td>\n",
       "      <td>4</td>\n",
       "      <td>2015-09-17</td>\n",
       "      <td>1.0</td>\n",
       "      <td>1</td>\n",
       "      <td>0</td>\n",
       "      <td>0</td>\n",
       "    </tr>\n",
       "    <tr>\n",
       "      <th>4</th>\n",
       "      <td>5</td>\n",
       "      <td>9</td>\n",
       "      <td>4</td>\n",
       "      <td>2015-09-17</td>\n",
       "      <td>1.0</td>\n",
       "      <td>1</td>\n",
       "      <td>0</td>\n",
       "      <td>0</td>\n",
       "    </tr>\n",
       "  </tbody>\n",
       "</table>\n",
       "</div>"
      ],
      "text/plain": [
       "   Id  Store  DayOfWeek        Date  Open  Promo StateHoliday  SchoolHoliday\n",
       "0   1      1          4  2015-09-17   1.0      1            0              0\n",
       "1   2      3          4  2015-09-17   1.0      1            0              0\n",
       "2   3      7          4  2015-09-17   1.0      1            0              0\n",
       "3   4      8          4  2015-09-17   1.0      1            0              0\n",
       "4   5      9          4  2015-09-17   1.0      1            0              0"
      ]
     },
     "execution_count": 4,
     "metadata": {},
     "output_type": "execute_result"
    }
   ],
   "source": [
    "df_test = raw_test_data.copy()\n",
    "print(f\" There are {df_test.shape[0]} rows and {df_test.shape[1]} columns in test dataframe\")\n",
    "df_test.head()\n"
   ]
  },
  {
   "cell_type": "code",
   "execution_count": 5,
   "id": "668f68f6",
   "metadata": {},
   "outputs": [
    {
     "name": "stdout",
     "output_type": "stream",
     "text": [
      " There are 1017209 rows and 9 columns train dataframe\n"
     ]
    },
    {
     "data": {
      "text/html": [
       "<div>\n",
       "<style scoped>\n",
       "    .dataframe tbody tr th:only-of-type {\n",
       "        vertical-align: middle;\n",
       "    }\n",
       "\n",
       "    .dataframe tbody tr th {\n",
       "        vertical-align: top;\n",
       "    }\n",
       "\n",
       "    .dataframe thead th {\n",
       "        text-align: right;\n",
       "    }\n",
       "</style>\n",
       "<table border=\"1\" class=\"dataframe\">\n",
       "  <thead>\n",
       "    <tr style=\"text-align: right;\">\n",
       "      <th></th>\n",
       "      <th>Store</th>\n",
       "      <th>DayOfWeek</th>\n",
       "      <th>Date</th>\n",
       "      <th>Sales</th>\n",
       "      <th>Customers</th>\n",
       "      <th>Open</th>\n",
       "      <th>Promo</th>\n",
       "      <th>StateHoliday</th>\n",
       "      <th>SchoolHoliday</th>\n",
       "    </tr>\n",
       "  </thead>\n",
       "  <tbody>\n",
       "    <tr>\n",
       "      <th>0</th>\n",
       "      <td>1</td>\n",
       "      <td>5</td>\n",
       "      <td>2015-07-31</td>\n",
       "      <td>5263</td>\n",
       "      <td>555</td>\n",
       "      <td>1</td>\n",
       "      <td>1</td>\n",
       "      <td>0</td>\n",
       "      <td>1</td>\n",
       "    </tr>\n",
       "    <tr>\n",
       "      <th>1</th>\n",
       "      <td>2</td>\n",
       "      <td>5</td>\n",
       "      <td>2015-07-31</td>\n",
       "      <td>6064</td>\n",
       "      <td>625</td>\n",
       "      <td>1</td>\n",
       "      <td>1</td>\n",
       "      <td>0</td>\n",
       "      <td>1</td>\n",
       "    </tr>\n",
       "    <tr>\n",
       "      <th>2</th>\n",
       "      <td>3</td>\n",
       "      <td>5</td>\n",
       "      <td>2015-07-31</td>\n",
       "      <td>8314</td>\n",
       "      <td>821</td>\n",
       "      <td>1</td>\n",
       "      <td>1</td>\n",
       "      <td>0</td>\n",
       "      <td>1</td>\n",
       "    </tr>\n",
       "    <tr>\n",
       "      <th>3</th>\n",
       "      <td>4</td>\n",
       "      <td>5</td>\n",
       "      <td>2015-07-31</td>\n",
       "      <td>13995</td>\n",
       "      <td>1498</td>\n",
       "      <td>1</td>\n",
       "      <td>1</td>\n",
       "      <td>0</td>\n",
       "      <td>1</td>\n",
       "    </tr>\n",
       "    <tr>\n",
       "      <th>4</th>\n",
       "      <td>5</td>\n",
       "      <td>5</td>\n",
       "      <td>2015-07-31</td>\n",
       "      <td>4822</td>\n",
       "      <td>559</td>\n",
       "      <td>1</td>\n",
       "      <td>1</td>\n",
       "      <td>0</td>\n",
       "      <td>1</td>\n",
       "    </tr>\n",
       "  </tbody>\n",
       "</table>\n",
       "</div>"
      ],
      "text/plain": [
       "   Store  DayOfWeek        Date  Sales  Customers  Open  Promo StateHoliday  \\\n",
       "0      1          5  2015-07-31   5263        555     1      1            0   \n",
       "1      2          5  2015-07-31   6064        625     1      1            0   \n",
       "2      3          5  2015-07-31   8314        821     1      1            0   \n",
       "3      4          5  2015-07-31  13995       1498     1      1            0   \n",
       "4      5          5  2015-07-31   4822        559     1      1            0   \n",
       "\n",
       "   SchoolHoliday  \n",
       "0              1  \n",
       "1              1  \n",
       "2              1  \n",
       "3              1  \n",
       "4              1  "
      ]
     },
     "execution_count": 5,
     "metadata": {},
     "output_type": "execute_result"
    }
   ],
   "source": [
    "df_train = raw_train_data.copy()\n",
    "print(f\" There are {df_train.shape[0]} rows and {df_train.shape[1]} columns train dataframe\")\n",
    "df_train.head()"
   ]
  },
  {
   "cell_type": "code",
   "execution_count": 6,
   "id": "fb5f4a57",
   "metadata": {},
   "outputs": [
    {
     "name": "stdout",
     "output_type": "stream",
     "text": [
      " There are 1115 rows and 10 columns store dataframe \n"
     ]
    },
    {
     "data": {
      "text/html": [
       "<div>\n",
       "<style scoped>\n",
       "    .dataframe tbody tr th:only-of-type {\n",
       "        vertical-align: middle;\n",
       "    }\n",
       "\n",
       "    .dataframe tbody tr th {\n",
       "        vertical-align: top;\n",
       "    }\n",
       "\n",
       "    .dataframe thead th {\n",
       "        text-align: right;\n",
       "    }\n",
       "</style>\n",
       "<table border=\"1\" class=\"dataframe\">\n",
       "  <thead>\n",
       "    <tr style=\"text-align: right;\">\n",
       "      <th></th>\n",
       "      <th>Store</th>\n",
       "      <th>StoreType</th>\n",
       "      <th>Assortment</th>\n",
       "      <th>CompetitionDistance</th>\n",
       "      <th>CompetitionOpenSinceMonth</th>\n",
       "      <th>CompetitionOpenSinceYear</th>\n",
       "      <th>Promo2</th>\n",
       "      <th>Promo2SinceWeek</th>\n",
       "      <th>Promo2SinceYear</th>\n",
       "      <th>PromoInterval</th>\n",
       "    </tr>\n",
       "  </thead>\n",
       "  <tbody>\n",
       "    <tr>\n",
       "      <th>0</th>\n",
       "      <td>1</td>\n",
       "      <td>c</td>\n",
       "      <td>a</td>\n",
       "      <td>1270.0</td>\n",
       "      <td>9.0</td>\n",
       "      <td>2008.0</td>\n",
       "      <td>0</td>\n",
       "      <td>NaN</td>\n",
       "      <td>NaN</td>\n",
       "      <td>NaN</td>\n",
       "    </tr>\n",
       "    <tr>\n",
       "      <th>1</th>\n",
       "      <td>2</td>\n",
       "      <td>a</td>\n",
       "      <td>a</td>\n",
       "      <td>570.0</td>\n",
       "      <td>11.0</td>\n",
       "      <td>2007.0</td>\n",
       "      <td>1</td>\n",
       "      <td>13.0</td>\n",
       "      <td>2010.0</td>\n",
       "      <td>Jan,Apr,Jul,Oct</td>\n",
       "    </tr>\n",
       "    <tr>\n",
       "      <th>2</th>\n",
       "      <td>3</td>\n",
       "      <td>a</td>\n",
       "      <td>a</td>\n",
       "      <td>14130.0</td>\n",
       "      <td>12.0</td>\n",
       "      <td>2006.0</td>\n",
       "      <td>1</td>\n",
       "      <td>14.0</td>\n",
       "      <td>2011.0</td>\n",
       "      <td>Jan,Apr,Jul,Oct</td>\n",
       "    </tr>\n",
       "    <tr>\n",
       "      <th>3</th>\n",
       "      <td>4</td>\n",
       "      <td>c</td>\n",
       "      <td>c</td>\n",
       "      <td>620.0</td>\n",
       "      <td>9.0</td>\n",
       "      <td>2009.0</td>\n",
       "      <td>0</td>\n",
       "      <td>NaN</td>\n",
       "      <td>NaN</td>\n",
       "      <td>NaN</td>\n",
       "    </tr>\n",
       "    <tr>\n",
       "      <th>4</th>\n",
       "      <td>5</td>\n",
       "      <td>a</td>\n",
       "      <td>a</td>\n",
       "      <td>29910.0</td>\n",
       "      <td>4.0</td>\n",
       "      <td>2015.0</td>\n",
       "      <td>0</td>\n",
       "      <td>NaN</td>\n",
       "      <td>NaN</td>\n",
       "      <td>NaN</td>\n",
       "    </tr>\n",
       "  </tbody>\n",
       "</table>\n",
       "</div>"
      ],
      "text/plain": [
       "   Store StoreType Assortment  CompetitionDistance  CompetitionOpenSinceMonth  \\\n",
       "0      1         c          a               1270.0                        9.0   \n",
       "1      2         a          a                570.0                       11.0   \n",
       "2      3         a          a              14130.0                       12.0   \n",
       "3      4         c          c                620.0                        9.0   \n",
       "4      5         a          a              29910.0                        4.0   \n",
       "\n",
       "   CompetitionOpenSinceYear  Promo2  Promo2SinceWeek  Promo2SinceYear  \\\n",
       "0                    2008.0       0              NaN              NaN   \n",
       "1                    2007.0       1             13.0           2010.0   \n",
       "2                    2006.0       1             14.0           2011.0   \n",
       "3                    2009.0       0              NaN              NaN   \n",
       "4                    2015.0       0              NaN              NaN   \n",
       "\n",
       "     PromoInterval  \n",
       "0              NaN  \n",
       "1  Jan,Apr,Jul,Oct  \n",
       "2  Jan,Apr,Jul,Oct  \n",
       "3              NaN  \n",
       "4              NaN  "
      ]
     },
     "execution_count": 6,
     "metadata": {},
     "output_type": "execute_result"
    }
   ],
   "source": [
    "df_store = raw_store_data.copy()\n",
    "print(f\" There are {df_store.shape[0]} rows and {df_store.shape[1]} columns store dataframe \")\n",
    "df_store.head()"
   ]
  },
  {
   "cell_type": "markdown",
   "id": "a7b533b1",
   "metadata": {},
   "source": [
    "#### detecting missing values in our datasets "
   ]
  },
  {
   "cell_type": "code",
   "execution_count": 7,
   "id": "c4e43e31",
   "metadata": {},
   "outputs": [],
   "source": [
    "# function of finding all missing values\n",
    "def missing_per_column(df):\n",
    "    print(round(df.isna().sum()))"
   ]
  },
  {
   "cell_type": "code",
   "execution_count": 8,
   "id": "8cda83f2",
   "metadata": {},
   "outputs": [
    {
     "name": "stdout",
     "output_type": "stream",
     "text": [
      "Id       0\n",
      "Sales    0\n",
      "dtype: int64\n"
     ]
    }
   ],
   "source": [
    "missing_per_column(df_sample)"
   ]
  },
  {
   "cell_type": "code",
   "execution_count": 9,
   "id": "ab0efa31",
   "metadata": {},
   "outputs": [
    {
     "name": "stdout",
     "output_type": "stream",
     "text": [
      "Store                          0\n",
      "StoreType                      0\n",
      "Assortment                     0\n",
      "CompetitionDistance            3\n",
      "CompetitionOpenSinceMonth    354\n",
      "CompetitionOpenSinceYear     354\n",
      "Promo2                         0\n",
      "Promo2SinceWeek              544\n",
      "Promo2SinceYear              544\n",
      "PromoInterval                544\n",
      "dtype: int64\n"
     ]
    }
   ],
   "source": [
    "missing_per_column(df_store)"
   ]
  },
  {
   "cell_type": "code",
   "execution_count": 10,
   "id": "abb73489",
   "metadata": {},
   "outputs": [
    {
     "name": "stdout",
     "output_type": "stream",
     "text": [
      "Store            0\n",
      "DayOfWeek        0\n",
      "Date             0\n",
      "Sales            0\n",
      "Customers        0\n",
      "Open             0\n",
      "Promo            0\n",
      "StateHoliday     0\n",
      "SchoolHoliday    0\n",
      "dtype: int64\n"
     ]
    }
   ],
   "source": [
    "missing_per_column(df_train)"
   ]
  },
  {
   "cell_type": "code",
   "execution_count": 11,
   "id": "a9e1a416",
   "metadata": {},
   "outputs": [
    {
     "name": "stdout",
     "output_type": "stream",
     "text": [
      "Id                0\n",
      "Store             0\n",
      "DayOfWeek         0\n",
      "Date              0\n",
      "Open             11\n",
      "Promo             0\n",
      "StateHoliday      0\n",
      "SchoolHoliday     0\n",
      "dtype: int64\n"
     ]
    }
   ],
   "source": [
    "missing_per_column(df_test)"
   ]
  },
  {
   "cell_type": "markdown",
   "id": "dfaa25a0",
   "metadata": {},
   "source": [
    "#### filling missing values  in test and store dataframes "
   ]
  },
  {
   "cell_type": "code",
   "execution_count": 12,
   "id": "9482795a",
   "metadata": {},
   "outputs": [
    {
     "data": {
      "text/plain": [
       "array([ 1., nan,  0.])"
      ]
     },
     "execution_count": 12,
     "metadata": {},
     "output_type": "execute_result"
    }
   ],
   "source": [
    "df_test['Open'].unique()"
   ]
  },
  {
   "cell_type": "code",
   "execution_count": 13,
   "id": "be8b2c79",
   "metadata": {},
   "outputs": [
    {
     "name": "stdout",
     "output_type": "stream",
     "text": [
      "Id               0\n",
      "Store            0\n",
      "DayOfWeek        0\n",
      "Date             0\n",
      "Open             0\n",
      "Promo            0\n",
      "StateHoliday     0\n",
      "SchoolHoliday    0\n",
      "dtype: int64\n"
     ]
    }
   ],
   "source": [
    "# we fill the nan with 1 because a store being open can not  affect our data instead of setting it to 0 \n",
    "# you might find a closed shop while sales were sold from a closed store \n",
    "df_test.fillna(1, inplace=True)\n",
    "missing_per_column(df_test)"
   ]
  },
  {
   "cell_type": "code",
   "execution_count": 14,
   "id": "f3e9efde",
   "metadata": {},
   "outputs": [
    {
     "data": {
      "text/plain": [
       "array([1.270e+03, 5.700e+02, 1.413e+04, 6.200e+02, 2.991e+04, 3.100e+02,\n",
       "       2.400e+04, 7.520e+03, 2.030e+03, 3.160e+03, 9.600e+02, 1.070e+03,\n",
       "       1.300e+03, 4.110e+03, 3.270e+03, 5.000e+01, 1.384e+04, 3.240e+03,\n",
       "       2.340e+03, 5.500e+02, 1.040e+03, 4.060e+03, 4.590e+03, 4.300e+02,\n",
       "       2.300e+03, 6.000e+01, 1.200e+03, 2.170e+03, 4.000e+01, 9.800e+03,\n",
       "       2.910e+03, 1.320e+03, 2.240e+03, 7.660e+03, 5.400e+02, 4.230e+03,\n",
       "       1.090e+03, 2.600e+02, 1.800e+02, 1.180e+03, 2.900e+02, 4.880e+03,\n",
       "       9.710e+03, 2.700e+02, 1.060e+03, 1.801e+04, 6.260e+03, 1.057e+04,\n",
       "       4.500e+02, 3.036e+04, 7.170e+03, 7.200e+02, 6.620e+03, 4.200e+02,\n",
       "       7.340e+03, 2.840e+03, 5.540e+03, 3.500e+02, 2.050e+03, 3.700e+03,\n",
       "       2.256e+04, 4.100e+02, 2.500e+02, 1.130e+03, 4.840e+03, 1.750e+04,\n",
       "       2.200e+03, 1.650e+03, 3.300e+02, 2.244e+04, 1.996e+04, 3.510e+03,\n",
       "       3.320e+03, 7.910e+03, 2.370e+03, 2.239e+04, 2.710e+03, 1.181e+04,\n",
       "       1.870e+03, 4.800e+02, 5.600e+02, 1.069e+04, 2.380e+03, 2.410e+03,\n",
       "       2.400e+02, 1.669e+04, 1.462e+04, 1.890e+03, 8.780e+03, 8.980e+03,\n",
       "       1.514e+04, 1.793e+04, 2.440e+03, 1.500e+02, 5.210e+03, 3.900e+02,\n",
       "       6.190e+03, 1.390e+03, 1.930e+03, 2.190e+03, 3.300e+03, 4.659e+04,\n",
       "       7.890e+03, 1.630e+03, 2.093e+04, 4.510e+03, 5.740e+03, 6.800e+02,\n",
       "       3.450e+03, 3.580e+03, 2.100e+03, 2.290e+03, 3.570e+03, 5.826e+04,\n",
       "       1.676e+04, 1.410e+03, 7.600e+02, 3.370e+03, 1.350e+03, 2.000e+03,\n",
       "       2.460e+03, 9.000e+02, 9.200e+02, 5.190e+03, 1.730e+03, 2.536e+04,\n",
       "       1.700e+03, 1.540e+03, 2.930e+03, 1.657e+04, 2.800e+02, 8.050e+03,\n",
       "       8.540e+03, 2.090e+03, 2.610e+03, 3.183e+04, 4.360e+03, 1.780e+03,\n",
       "       1.624e+04, 1.642e+04, 3.050e+03, 2.020e+03, 2.950e+03, 1.184e+04,\n",
       "       8.530e+03, 1.711e+04, 2.970e+03, 5.340e+03, 1.480e+03, 1.160e+03,\n",
       "       3.720e+03, 1.000e+02, 1.400e+02, 1.254e+04, 9.800e+02, 2.640e+03,\n",
       "       1.100e+02, 1.309e+04, 4.130e+03, 3.770e+03, 1.250e+03, 1.710e+03,\n",
       "       5.800e+03, 1.261e+04, 9.670e+03, 3.560e+03, 1.860e+03, 1.936e+04,\n",
       "       8.500e+02, 5.760e+03, 1.470e+03, 1.100e+03, 2.770e+03, 5.200e+02,\n",
       "       1.697e+04, 2.200e+02, 3.850e+03, 4.210e+03, 6.360e+03, 2.026e+04,\n",
       "       5.140e+03, 4.900e+02, 5.630e+03, 3.800e+02, 6.870e+03, 3.000e+02,\n",
       "       1.168e+04, 9.700e+02, 1.505e+04, 4.030e+03, 8.650e+03, 1.900e+02,\n",
       "       3.150e+03, 6.400e+02, 1.640e+03, 1.000e+03, 1.353e+04, 2.920e+03,\n",
       "       7.930e+03, 1.018e+04, 1.080e+04, 1.741e+04, 6.680e+03, 3.840e+03,\n",
       "       1.357e+04, 4.370e+03, 5.710e+03, 1.420e+03, 3.200e+02, 6.100e+02,\n",
       "       1.110e+03, 7.800e+02, 6.880e+03, 7.100e+02, 1.310e+03, 4.660e+03,\n",
       "       7.000e+01, 3.400e+02, 3.520e+03, 2.233e+04, 4.630e+03, 8.000e+01,\n",
       "       2.719e+04, 2.100e+02, 1.534e+04, 1.140e+03, 4.580e+03, 3.600e+02,\n",
       "       4.520e+03, 1.450e+03, 1.618e+04, 8.480e+03, 3.640e+03, 2.960e+03,\n",
       "       7.840e+03, 9.260e+03, 2.320e+03, 1.864e+04, 6.970e+03, 1.220e+03,\n",
       "       2.260e+03, 1.290e+03, 1.460e+03, 2.740e+03, 8.000e+02, 6.540e+03,\n",
       "       4.150e+03,       nan, 9.580e+03, 1.984e+04, 3.863e+04, 1.200e+02,\n",
       "       1.543e+04, 1.950e+03, 2.470e+03, 5.100e+03, 1.866e+04, 8.740e+03,\n",
       "       1.130e+04, 1.416e+04, 3.871e+04, 9.000e+03, 3.140e+03, 3.233e+04,\n",
       "       8.140e+03, 8.400e+03, 1.314e+04, 1.007e+04, 3.130e+03, 3.700e+02,\n",
       "       6.700e+02, 1.840e+03, 4.040e+03, 9.000e+01, 1.060e+04, 1.590e+03,\n",
       "       2.280e+03, 8.080e+03, 1.577e+04, 1.865e+04, 8.090e+03, 9.360e+03,\n",
       "       1.649e+04, 1.490e+03, 8.880e+03, 5.290e+03, 1.500e+03, 9.720e+03,\n",
       "       8.970e+03, 2.060e+03, 2.890e+03, 2.040e+03, 4.490e+03, 1.362e+04,\n",
       "       6.470e+03, 5.870e+03, 8.250e+03, 1.970e+03, 1.112e+04, 1.150e+03,\n",
       "       1.571e+04, 1.600e+02, 2.140e+03, 6.630e+03, 1.800e+03, 2.613e+04,\n",
       "       1.300e+02, 6.690e+03, 1.600e+03, 4.600e+02, 2.120e+03, 4.820e+03,\n",
       "       1.085e+04, 3.620e+03, 2.313e+04, 5.360e+03, 9.200e+03, 5.830e+03,\n",
       "       4.970e+03, 1.080e+03, 8.240e+03, 5.890e+03, 1.560e+03, 8.400e+02,\n",
       "       8.460e+03, 4.460e+03, 6.210e+03, 6.910e+03, 4.650e+03, 1.620e+03,\n",
       "       3.530e+03, 2.880e+03, 1.635e+04, 1.287e+04, 8.100e+02, 3.003e+04,\n",
       "       1.302e+04, 9.100e+02, 3.900e+03, 2.530e+03, 5.000e+02, 1.140e+04,\n",
       "       1.510e+03, 3.970e+03, 5.780e+03, 1.850e+03, 7.586e+04, 2.645e+04,\n",
       "       3.390e+03, 3.405e+04, 1.790e+03, 4.432e+04, 4.160e+03, 1.089e+04,\n",
       "       3.110e+03, 2.039e+04, 5.260e+03, 5.300e+03, 5.030e+03, 1.481e+04,\n",
       "       8.300e+03, 7.700e+02, 1.940e+03, 7.470e+03, 2.550e+03, 2.310e+03,\n",
       "       1.430e+04, 2.180e+03, 1.496e+04, 6.600e+02, 4.680e+03, 1.740e+03,\n",
       "       1.260e+03, 5.470e+03, 2.780e+03, 1.610e+03, 9.900e+02, 1.308e+04,\n",
       "       8.200e+02, 9.070e+03, 1.280e+03, 4.740e+03, 8.260e+03, 5.900e+02,\n",
       "       4.000e+02, 1.126e+04, 2.000e+01, 2.249e+04, 3.330e+03, 2.510e+03,\n",
       "       6.900e+03, 1.861e+04, 7.160e+03, 4.086e+04, 2.062e+04, 1.292e+04,\n",
       "       1.816e+04, 5.950e+03, 4.700e+03, 6.000e+02, 6.500e+02, 7.280e+03,\n",
       "       5.020e+03, 5.800e+02, 8.990e+03, 3.760e+03, 2.330e+03, 4.260e+03,\n",
       "       3.040e+03, 3.000e+03, 3.910e+03, 1.910e+03, 1.210e+03, 7.000e+02,\n",
       "       1.010e+03, 4.270e+03, 1.340e+03, 2.110e+03, 9.230e+03, 1.190e+03,\n",
       "       4.400e+03, 2.270e+03, 1.270e+04, 2.097e+04, 1.700e+02, 7.250e+03,\n",
       "       1.360e+03, 4.400e+02, 1.572e+04, 3.340e+03, 2.540e+03, 3.306e+04,\n",
       "       1.734e+04, 8.220e+03, 1.095e+04, 1.031e+04, 1.837e+04, 2.070e+03,\n",
       "       2.490e+03, 7.300e+02, 8.940e+03, 9.910e+03, 5.440e+03, 3.000e+01,\n",
       "       4.080e+03, 6.920e+03, 1.170e+03, 1.074e+04, 5.100e+02, 1.690e+03,\n",
       "       2.870e+03, 3.350e+03, 1.164e+04, 2.753e+04, 9.790e+03, 1.017e+04,\n",
       "       7.780e+03, 8.040e+03, 5.300e+02, 2.300e+02, 7.420e+03, 2.130e+03,\n",
       "       1.457e+04, 2.000e+02, 6.930e+03, 7.860e+03, 1.680e+03, 2.700e+03,\n",
       "       1.708e+04, 1.517e+04, 3.250e+03, 4.140e+03, 2.850e+03, 2.005e+04,\n",
       "       1.876e+04, 1.504e+04, 3.030e+03, 3.780e+03, 8.300e+02, 8.550e+03,\n",
       "       7.830e+03, 2.900e+03, 1.147e+04, 4.870e+03, 1.207e+04, 3.200e+03,\n",
       "       8.190e+03, 1.532e+04, 3.590e+03, 5.650e+03, 5.900e+03, 1.754e+04,\n",
       "       4.054e+04, 1.399e+04, 1.527e+04, 3.528e+04, 8.600e+02, 1.920e+03,\n",
       "       5.980e+03, 6.400e+03, 1.190e+04, 4.380e+03, 6.710e+03, 1.370e+03,\n",
       "       1.765e+04, 4.330e+03, 4.574e+04, 3.410e+03, 8.670e+03, 1.313e+04,\n",
       "       1.978e+04, 2.390e+03, 3.224e+04, 2.649e+04, 2.543e+04, 9.820e+03,\n",
       "       2.630e+03, 2.064e+04, 1.699e+04, 6.300e+02, 5.390e+03, 1.549e+04,\n",
       "       3.210e+03, 1.530e+03, 9.770e+03, 1.728e+04, 5.090e+03, 7.180e+03,\n",
       "       9.560e+03, 4.833e+04, 1.760e+03, 2.477e+04, 3.870e+03, 1.862e+04,\n",
       "       1.277e+04, 9.640e+03, 2.590e+03, 2.453e+04, 1.621e+04, 1.757e+04,\n",
       "       7.980e+03, 3.290e+03, 6.320e+03, 5.070e+03, 3.470e+03, 2.720e+03,\n",
       "       1.460e+04, 6.890e+03, 2.765e+04, 8.860e+03, 5.000e+03, 1.120e+03,\n",
       "       9.400e+02, 1.404e+04, 4.770e+03, 3.440e+03, 3.020e+03, 6.270e+03,\n",
       "       2.177e+04, 7.400e+02, 2.137e+04, 1.020e+03, 9.680e+03, 2.181e+04,\n",
       "       1.062e+04, 3.860e+03, 2.179e+04, 2.919e+04, 4.570e+03, 7.550e+03,\n",
       "       1.243e+04, 1.970e+04, 4.450e+03, 1.867e+04, 1.937e+04, 1.854e+04,\n",
       "       3.920e+03, 3.170e+03, 7.290e+03, 1.980e+03, 1.248e+04, 3.100e+03,\n",
       "       7.240e+03, 1.871e+04, 2.620e+03, 6.420e+03, 4.700e+02, 5.150e+03,\n",
       "       1.570e+04, 5.460e+03, 2.235e+04, 2.810e+03, 2.820e+03, 6.860e+03,\n",
       "       1.802e+04, 1.670e+03, 2.220e+03, 1.430e+03, 8.700e+02, 6.300e+03,\n",
       "       1.983e+04, 9.430e+03, 2.362e+04, 9.630e+03, 4.180e+03, 3.890e+03,\n",
       "       4.420e+03, 2.193e+04, 2.480e+03, 3.460e+03, 6.560e+03, 5.840e+03,\n",
       "       2.230e+03, 1.964e+04, 6.480e+03, 4.610e+03, 6.330e+03, 1.520e+03,\n",
       "       3.740e+03, 1.990e+03, 3.641e+04, 7.680e+03, 1.375e+04, 2.715e+04,\n",
       "       1.729e+04, 2.699e+04, 2.907e+04, 3.750e+03, 1.317e+04, 5.080e+03,\n",
       "       1.319e+04, 5.350e+03, 3.230e+03, 3.380e+03, 3.430e+03, 8.110e+03,\n",
       "       6.250e+03, 1.202e+04, 5.010e+03, 1.805e+04, 5.380e+03, 1.668e+04,\n",
       "       1.154e+04, 2.210e+03, 4.300e+03, 5.220e+03, 9.990e+03, 1.045e+04,\n",
       "       6.900e+02, 1.830e+03, 5.330e+03, 1.400e+03, 3.490e+03, 1.900e+03,\n",
       "       1.880e+03])"
      ]
     },
     "execution_count": 14,
     "metadata": {},
     "output_type": "execute_result"
    }
   ],
   "source": [
    "df_store['CompetitionDistance'].unique()"
   ]
  },
  {
   "cell_type": "code",
   "execution_count": 15,
   "id": "e175b560",
   "metadata": {},
   "outputs": [
    {
     "data": {
      "text/plain": [
       "array([ 9., 11., 12.,  4., 10.,  8., nan,  3.,  6.,  5.,  1.,  2.,  7.])"
      ]
     },
     "execution_count": 15,
     "metadata": {},
     "output_type": "execute_result"
    }
   ],
   "source": [
    "df_store['CompetitionOpenSinceMonth'].unique()"
   ]
  },
  {
   "cell_type": "code",
   "execution_count": 16,
   "id": "83d1f5fb",
   "metadata": {},
   "outputs": [
    {
     "data": {
      "text/plain": [
       "array([2008., 2007., 2006., 2009., 2015., 2013., 2014., 2000., 2011.,\n",
       "         nan, 2010., 2005., 1999., 2003., 2012., 2004., 2002., 1961.,\n",
       "       1995., 2001., 1990., 1994., 1900., 1998.])"
      ]
     },
     "execution_count": 16,
     "metadata": {},
     "output_type": "execute_result"
    }
   ],
   "source": [
    "df_store['CompetitionOpenSinceYear'].unique()"
   ]
  },
  {
   "cell_type": "code",
   "execution_count": 17,
   "id": "90a9c582",
   "metadata": {},
   "outputs": [
    {
     "data": {
      "text/plain": [
       "array([nan, 13., 14.,  1., 45., 40., 26., 22.,  5.,  6., 10., 31., 37.,\n",
       "        9., 39., 27., 18., 35., 23., 48., 36., 50., 44., 49., 28.])"
      ]
     },
     "execution_count": 17,
     "metadata": {},
     "output_type": "execute_result"
    }
   ],
   "source": [
    "df_store['Promo2SinceWeek'].unique()"
   ]
  },
  {
   "cell_type": "code",
   "execution_count": 18,
   "id": "a7538048",
   "metadata": {},
   "outputs": [
    {
     "data": {
      "text/plain": [
       "array([  nan, 2010., 2011., 2012., 2009., 2014., 2015., 2013.])"
      ]
     },
     "execution_count": 18,
     "metadata": {},
     "output_type": "execute_result"
    }
   ],
   "source": [
    "df_store['Promo2SinceYear'].unique()"
   ]
  },
  {
   "cell_type": "code",
   "execution_count": 19,
   "id": "348b37b2",
   "metadata": {},
   "outputs": [
    {
     "data": {
      "text/plain": [
       "array([nan, 'Jan,Apr,Jul,Oct', 'Feb,May,Aug,Nov', 'Mar,Jun,Sept,Dec'],\n",
       "      dtype=object)"
      ]
     },
     "execution_count": 19,
     "metadata": {},
     "output_type": "execute_result"
    }
   ],
   "source": [
    "df_store['PromoInterval'].unique()"
   ]
  },
  {
   "cell_type": "code",
   "execution_count": 20,
   "id": "8611652e",
   "metadata": {},
   "outputs": [],
   "source": [
    "# filling the NaN values in CompetitionDistance col\n",
    "df_store.CompetitionDistance.fillna(df_store.CompetitionDistance.median(), inplace=True)"
   ]
  },
  {
   "cell_type": "code",
   "execution_count": 21,
   "id": "fc4c4345",
   "metadata": {},
   "outputs": [
    {
     "data": {
      "text/plain": [
       "Store                        0\n",
       "StoreType                    0\n",
       "Assortment                   0\n",
       "CompetitionDistance          0\n",
       "CompetitionOpenSinceMonth    0\n",
       "CompetitionOpenSinceYear     0\n",
       "Promo2                       0\n",
       "Promo2SinceWeek              0\n",
       "Promo2SinceYear              0\n",
       "PromoInterval                0\n",
       "dtype: int64"
      ]
     },
     "execution_count": 21,
     "metadata": {},
     "output_type": "execute_result"
    }
   ],
   "source": [
    "# replace all the other NaN values with zeros\n",
    "df_store.fillna(0, inplace=True)\n",
    "df_store.isnull().sum()"
   ]
  },
  {
   "cell_type": "markdown",
   "id": "007b33fd",
   "metadata": {},
   "source": [
    "#### changing date datype to datetime "
   ]
  },
  {
   "cell_type": "code",
   "execution_count": 22,
   "id": "9266c05b",
   "metadata": {},
   "outputs": [],
   "source": [
    "df_train['Date'] = pd.to_datetime(df_train.Date)\n",
    "df_test['Date'] = pd.to_datetime(df_test.Date)"
   ]
  },
  {
   "cell_type": "markdown",
   "id": "bbf3f34a",
   "metadata": {},
   "source": [
    "#### finding if there is open store with no sales,closed store with no sales and closed store with  sales "
   ]
  },
  {
   "cell_type": "code",
   "execution_count": 23,
   "id": "e2befca3",
   "metadata": {},
   "outputs": [
    {
     "name": "stdout",
     "output_type": "stream",
     "text": [
      " There are 0 closed stores with sales\n"
     ]
    }
   ],
   "source": [
    "# closed stores with sales\n",
    "not_open = df_train[(df_train['Open']==0) & (df_train['Sales'] !=0)]\n",
    "not_open.shape\n",
    "print(f\" There are {not_open.shape[0]} closed stores with sales\")"
   ]
  },
  {
   "cell_type": "code",
   "execution_count": 24,
   "id": "97713675",
   "metadata": {},
   "outputs": [
    {
     "name": "stdout",
     "output_type": "stream",
     "text": [
      " There are 172817 closed stores with no sales (TOTALY CLOSED )\n"
     ]
    }
   ],
   "source": [
    "# closed stores with no sales (TOTALY CLOSED )\n",
    "closed_store = df_train[(df_train.Open == 0) & (df_train.Sales == 0)]\n",
    "closed_store.shape\n",
    "print(f\" There are {closed_store.shape[0]} closed stores with no sales (TOTALY CLOSED )\")"
   ]
  },
  {
   "cell_type": "code",
   "execution_count": 25,
   "id": "b2c370f7",
   "metadata": {},
   "outputs": [
    {
     "name": "stdout",
     "output_type": "stream",
     "text": [
      " There are 54 Open stores with no sales\n"
     ]
    }
   ],
   "source": [
    "# Open stores with no sales\n",
    "no_sales = df_train[(df_train['Open']==1) & (df_train['Sales'] <=0)]\n",
    "no_sales.shape\n",
    "print(f\" There are {no_sales.shape[0]} Open stores with no sales\")"
   ]
  },
  {
   "cell_type": "markdown",
   "id": "76ed65b9",
   "metadata": {},
   "source": [
    "#### dropping all  Open stores with no sales and closed stores with no sales (TOTALY CLOSED )"
   ]
  },
  {
   "cell_type": "code",
   "execution_count": 26,
   "id": "3acc7ee5",
   "metadata": {},
   "outputs": [
    {
     "data": {
      "text/plain": [
       "(844338, 9)"
      ]
     },
     "execution_count": 26,
     "metadata": {},
     "output_type": "execute_result"
    }
   ],
   "source": [
    "# dropping the zero sales and closed stores\n",
    "df_train = df_train[(df_train.Open != 0) & (df_train.Sales != 0)]\n",
    "df_train.shape"
   ]
  },
  {
   "cell_type": "markdown",
   "id": "875a1521",
   "metadata": {},
   "source": [
    "#### Creating new features to be used "
   ]
  },
  {
   "cell_type": "code",
   "execution_count": 31,
   "id": "8fd56d86",
   "metadata": {},
   "outputs": [
    {
     "name": "stderr",
     "output_type": "stream",
     "text": [
      "<ipython-input-31-7cb0ab1e7e4d>:3: FutureWarning: Series.dt.weekofyear and Series.dt.week have been deprecated.  Please use Series.dt.isocalendar().week instead.\n",
      "  df_train['WeekOfYear'] = df_train.Date.dt.weekofyear\n"
     ]
    },
    {
     "data": {
      "text/html": [
       "<div>\n",
       "<style scoped>\n",
       "    .dataframe tbody tr th:only-of-type {\n",
       "        vertical-align: middle;\n",
       "    }\n",
       "\n",
       "    .dataframe tbody tr th {\n",
       "        vertical-align: top;\n",
       "    }\n",
       "\n",
       "    .dataframe thead th {\n",
       "        text-align: right;\n",
       "    }\n",
       "</style>\n",
       "<table border=\"1\" class=\"dataframe\">\n",
       "  <thead>\n",
       "    <tr style=\"text-align: right;\">\n",
       "      <th></th>\n",
       "      <th>Store</th>\n",
       "      <th>DayOfWeek</th>\n",
       "      <th>Date</th>\n",
       "      <th>Sales</th>\n",
       "      <th>Customers</th>\n",
       "      <th>Open</th>\n",
       "      <th>Promo</th>\n",
       "      <th>StateHoliday</th>\n",
       "      <th>SchoolHoliday</th>\n",
       "      <th>Year</th>\n",
       "      <th>Month</th>\n",
       "      <th>WeekOfYear</th>\n",
       "      <th>SalePerCustomer</th>\n",
       "    </tr>\n",
       "  </thead>\n",
       "  <tbody>\n",
       "    <tr>\n",
       "      <th>0</th>\n",
       "      <td>1</td>\n",
       "      <td>5</td>\n",
       "      <td>2015-07-31</td>\n",
       "      <td>5263</td>\n",
       "      <td>555</td>\n",
       "      <td>1</td>\n",
       "      <td>1</td>\n",
       "      <td>0</td>\n",
       "      <td>1</td>\n",
       "      <td>2015</td>\n",
       "      <td>7</td>\n",
       "      <td>31</td>\n",
       "      <td>9.482883</td>\n",
       "    </tr>\n",
       "    <tr>\n",
       "      <th>1</th>\n",
       "      <td>2</td>\n",
       "      <td>5</td>\n",
       "      <td>2015-07-31</td>\n",
       "      <td>6064</td>\n",
       "      <td>625</td>\n",
       "      <td>1</td>\n",
       "      <td>1</td>\n",
       "      <td>0</td>\n",
       "      <td>1</td>\n",
       "      <td>2015</td>\n",
       "      <td>7</td>\n",
       "      <td>31</td>\n",
       "      <td>9.702400</td>\n",
       "    </tr>\n",
       "    <tr>\n",
       "      <th>2</th>\n",
       "      <td>3</td>\n",
       "      <td>5</td>\n",
       "      <td>2015-07-31</td>\n",
       "      <td>8314</td>\n",
       "      <td>821</td>\n",
       "      <td>1</td>\n",
       "      <td>1</td>\n",
       "      <td>0</td>\n",
       "      <td>1</td>\n",
       "      <td>2015</td>\n",
       "      <td>7</td>\n",
       "      <td>31</td>\n",
       "      <td>10.126675</td>\n",
       "    </tr>\n",
       "    <tr>\n",
       "      <th>3</th>\n",
       "      <td>4</td>\n",
       "      <td>5</td>\n",
       "      <td>2015-07-31</td>\n",
       "      <td>13995</td>\n",
       "      <td>1498</td>\n",
       "      <td>1</td>\n",
       "      <td>1</td>\n",
       "      <td>0</td>\n",
       "      <td>1</td>\n",
       "      <td>2015</td>\n",
       "      <td>7</td>\n",
       "      <td>31</td>\n",
       "      <td>9.342457</td>\n",
       "    </tr>\n",
       "    <tr>\n",
       "      <th>4</th>\n",
       "      <td>5</td>\n",
       "      <td>5</td>\n",
       "      <td>2015-07-31</td>\n",
       "      <td>4822</td>\n",
       "      <td>559</td>\n",
       "      <td>1</td>\n",
       "      <td>1</td>\n",
       "      <td>0</td>\n",
       "      <td>1</td>\n",
       "      <td>2015</td>\n",
       "      <td>7</td>\n",
       "      <td>31</td>\n",
       "      <td>8.626118</td>\n",
       "    </tr>\n",
       "  </tbody>\n",
       "</table>\n",
       "</div>"
      ],
      "text/plain": [
       "   Store  DayOfWeek       Date  Sales  Customers  Open  Promo StateHoliday  \\\n",
       "0      1          5 2015-07-31   5263        555     1      1            0   \n",
       "1      2          5 2015-07-31   6064        625     1      1            0   \n",
       "2      3          5 2015-07-31   8314        821     1      1            0   \n",
       "3      4          5 2015-07-31  13995       1498     1      1            0   \n",
       "4      5          5 2015-07-31   4822        559     1      1            0   \n",
       "\n",
       "   SchoolHoliday  Year  Month  WeekOfYear  SalePerCustomer  \n",
       "0              1  2015      7          31         9.482883  \n",
       "1              1  2015      7          31         9.702400  \n",
       "2              1  2015      7          31        10.126675  \n",
       "3              1  2015      7          31         9.342457  \n",
       "4              1  2015      7          31         8.626118  "
      ]
     },
     "execution_count": 31,
     "metadata": {},
     "output_type": "execute_result"
    }
   ],
   "source": [
    "df_train['Year'] = df_train['Date'].dt.year\n",
    "df_train['Month'] = df_train.Date.dt.month\n",
    "df_train['WeekOfYear'] = df_train.Date.dt.weekofyear\n",
    "df_train['SalePerCustomer'] = df_train['Sales']/df_train['Customers']\n",
    "df_train.head()\n",
    "# df1['year'] = df1['timestamp'].dt.yea"
   ]
  },
  {
   "cell_type": "markdown",
   "id": "233924ca",
   "metadata": {},
   "source": [
    "#### merging store and train "
   ]
  },
  {
   "cell_type": "code",
   "execution_count": 33,
   "id": "a1a18896",
   "metadata": {},
   "outputs": [
    {
     "name": "stdout",
     "output_type": "stream",
     "text": [
      "The shape of the merged training and store dataset is:  (844338, 22)\n"
     ]
    },
    {
     "data": {
      "text/html": [
       "<div>\n",
       "<style scoped>\n",
       "    .dataframe tbody tr th:only-of-type {\n",
       "        vertical-align: middle;\n",
       "    }\n",
       "\n",
       "    .dataframe tbody tr th {\n",
       "        vertical-align: top;\n",
       "    }\n",
       "\n",
       "    .dataframe thead th {\n",
       "        text-align: right;\n",
       "    }\n",
       "</style>\n",
       "<table border=\"1\" class=\"dataframe\">\n",
       "  <thead>\n",
       "    <tr style=\"text-align: right;\">\n",
       "      <th></th>\n",
       "      <th>Store</th>\n",
       "      <th>DayOfWeek</th>\n",
       "      <th>Date</th>\n",
       "      <th>Sales</th>\n",
       "      <th>Customers</th>\n",
       "      <th>Open</th>\n",
       "      <th>Promo</th>\n",
       "      <th>StateHoliday</th>\n",
       "      <th>SchoolHoliday</th>\n",
       "      <th>Year</th>\n",
       "      <th>...</th>\n",
       "      <th>SalePerCustomer</th>\n",
       "      <th>StoreType</th>\n",
       "      <th>Assortment</th>\n",
       "      <th>CompetitionDistance</th>\n",
       "      <th>CompetitionOpenSinceMonth</th>\n",
       "      <th>CompetitionOpenSinceYear</th>\n",
       "      <th>Promo2</th>\n",
       "      <th>Promo2SinceWeek</th>\n",
       "      <th>Promo2SinceYear</th>\n",
       "      <th>PromoInterval</th>\n",
       "    </tr>\n",
       "  </thead>\n",
       "  <tbody>\n",
       "    <tr>\n",
       "      <th>0</th>\n",
       "      <td>1</td>\n",
       "      <td>5</td>\n",
       "      <td>2015-07-31</td>\n",
       "      <td>5263</td>\n",
       "      <td>555</td>\n",
       "      <td>1</td>\n",
       "      <td>1</td>\n",
       "      <td>0</td>\n",
       "      <td>1</td>\n",
       "      <td>2015</td>\n",
       "      <td>...</td>\n",
       "      <td>9.482883</td>\n",
       "      <td>c</td>\n",
       "      <td>a</td>\n",
       "      <td>1270.0</td>\n",
       "      <td>9.0</td>\n",
       "      <td>2008.0</td>\n",
       "      <td>0</td>\n",
       "      <td>0.0</td>\n",
       "      <td>0.0</td>\n",
       "      <td>0</td>\n",
       "    </tr>\n",
       "    <tr>\n",
       "      <th>1</th>\n",
       "      <td>1</td>\n",
       "      <td>4</td>\n",
       "      <td>2015-07-30</td>\n",
       "      <td>5020</td>\n",
       "      <td>546</td>\n",
       "      <td>1</td>\n",
       "      <td>1</td>\n",
       "      <td>0</td>\n",
       "      <td>1</td>\n",
       "      <td>2015</td>\n",
       "      <td>...</td>\n",
       "      <td>9.194139</td>\n",
       "      <td>c</td>\n",
       "      <td>a</td>\n",
       "      <td>1270.0</td>\n",
       "      <td>9.0</td>\n",
       "      <td>2008.0</td>\n",
       "      <td>0</td>\n",
       "      <td>0.0</td>\n",
       "      <td>0.0</td>\n",
       "      <td>0</td>\n",
       "    </tr>\n",
       "    <tr>\n",
       "      <th>2</th>\n",
       "      <td>1</td>\n",
       "      <td>3</td>\n",
       "      <td>2015-07-29</td>\n",
       "      <td>4782</td>\n",
       "      <td>523</td>\n",
       "      <td>1</td>\n",
       "      <td>1</td>\n",
       "      <td>0</td>\n",
       "      <td>1</td>\n",
       "      <td>2015</td>\n",
       "      <td>...</td>\n",
       "      <td>9.143403</td>\n",
       "      <td>c</td>\n",
       "      <td>a</td>\n",
       "      <td>1270.0</td>\n",
       "      <td>9.0</td>\n",
       "      <td>2008.0</td>\n",
       "      <td>0</td>\n",
       "      <td>0.0</td>\n",
       "      <td>0.0</td>\n",
       "      <td>0</td>\n",
       "    </tr>\n",
       "    <tr>\n",
       "      <th>3</th>\n",
       "      <td>1</td>\n",
       "      <td>2</td>\n",
       "      <td>2015-07-28</td>\n",
       "      <td>5011</td>\n",
       "      <td>560</td>\n",
       "      <td>1</td>\n",
       "      <td>1</td>\n",
       "      <td>0</td>\n",
       "      <td>1</td>\n",
       "      <td>2015</td>\n",
       "      <td>...</td>\n",
       "      <td>8.948214</td>\n",
       "      <td>c</td>\n",
       "      <td>a</td>\n",
       "      <td>1270.0</td>\n",
       "      <td>9.0</td>\n",
       "      <td>2008.0</td>\n",
       "      <td>0</td>\n",
       "      <td>0.0</td>\n",
       "      <td>0.0</td>\n",
       "      <td>0</td>\n",
       "    </tr>\n",
       "    <tr>\n",
       "      <th>4</th>\n",
       "      <td>1</td>\n",
       "      <td>1</td>\n",
       "      <td>2015-07-27</td>\n",
       "      <td>6102</td>\n",
       "      <td>612</td>\n",
       "      <td>1</td>\n",
       "      <td>1</td>\n",
       "      <td>0</td>\n",
       "      <td>1</td>\n",
       "      <td>2015</td>\n",
       "      <td>...</td>\n",
       "      <td>9.970588</td>\n",
       "      <td>c</td>\n",
       "      <td>a</td>\n",
       "      <td>1270.0</td>\n",
       "      <td>9.0</td>\n",
       "      <td>2008.0</td>\n",
       "      <td>0</td>\n",
       "      <td>0.0</td>\n",
       "      <td>0.0</td>\n",
       "      <td>0</td>\n",
       "    </tr>\n",
       "  </tbody>\n",
       "</table>\n",
       "<p>5 rows × 22 columns</p>\n",
       "</div>"
      ],
      "text/plain": [
       "   Store  DayOfWeek       Date  Sales  Customers  Open  Promo StateHoliday  \\\n",
       "0      1          5 2015-07-31   5263        555     1      1            0   \n",
       "1      1          4 2015-07-30   5020        546     1      1            0   \n",
       "2      1          3 2015-07-29   4782        523     1      1            0   \n",
       "3      1          2 2015-07-28   5011        560     1      1            0   \n",
       "4      1          1 2015-07-27   6102        612     1      1            0   \n",
       "\n",
       "   SchoolHoliday  Year  ...  SalePerCustomer  StoreType  Assortment  \\\n",
       "0              1  2015  ...         9.482883          c           a   \n",
       "1              1  2015  ...         9.194139          c           a   \n",
       "2              1  2015  ...         9.143403          c           a   \n",
       "3              1  2015  ...         8.948214          c           a   \n",
       "4              1  2015  ...         9.970588          c           a   \n",
       "\n",
       "  CompetitionDistance CompetitionOpenSinceMonth  CompetitionOpenSinceYear  \\\n",
       "0              1270.0                       9.0                    2008.0   \n",
       "1              1270.0                       9.0                    2008.0   \n",
       "2              1270.0                       9.0                    2008.0   \n",
       "3              1270.0                       9.0                    2008.0   \n",
       "4              1270.0                       9.0                    2008.0   \n",
       "\n",
       "   Promo2  Promo2SinceWeek  Promo2SinceYear  PromoInterval  \n",
       "0       0              0.0              0.0              0  \n",
       "1       0              0.0              0.0              0  \n",
       "2       0              0.0              0.0              0  \n",
       "3       0              0.0              0.0              0  \n",
       "4       0              0.0              0.0              0  \n",
       "\n",
       "[5 rows x 22 columns]"
      ]
     },
     "execution_count": 33,
     "metadata": {},
     "output_type": "execute_result"
    }
   ],
   "source": [
    "df_Train_Store = pd.merge(df_train, df_store, how='inner', on='Store')\n",
    "print(\"The shape of the merged training and store dataset is: \", df_Train_Store.shape)\n",
    "df_Train_Store.head()"
   ]
  },
  {
   "cell_type": "code",
   "execution_count": 34,
   "id": "00b53d78",
   "metadata": {},
   "outputs": [
    {
     "name": "stdout",
     "output_type": "stream",
     "text": [
      "Store                        0\n",
      "DayOfWeek                    0\n",
      "Date                         0\n",
      "Sales                        0\n",
      "Customers                    0\n",
      "Open                         0\n",
      "Promo                        0\n",
      "StateHoliday                 0\n",
      "SchoolHoliday                0\n",
      "Year                         0\n",
      "Month                        0\n",
      "WeekOfYear                   0\n",
      "SalePerCustomer              0\n",
      "StoreType                    0\n",
      "Assortment                   0\n",
      "CompetitionDistance          0\n",
      "CompetitionOpenSinceMonth    0\n",
      "CompetitionOpenSinceYear     0\n",
      "Promo2                       0\n",
      "Promo2SinceWeek              0\n",
      "Promo2SinceYear              0\n",
      "PromoInterval                0\n",
      "dtype: int64\n"
     ]
    }
   ],
   "source": [
    "# missing values in our merged dataset\n",
    "missing_per_column(df_Train_Store)"
   ]
  },
  {
   "cell_type": "code",
   "execution_count": 46,
   "id": "ad7e80fe",
   "metadata": {},
   "outputs": [
    {
     "data": {
      "text/html": [
       "<div>\n",
       "<style scoped>\n",
       "    .dataframe tbody tr th:only-of-type {\n",
       "        vertical-align: middle;\n",
       "    }\n",
       "\n",
       "    .dataframe tbody tr th {\n",
       "        vertical-align: top;\n",
       "    }\n",
       "\n",
       "    .dataframe thead th {\n",
       "        text-align: right;\n",
       "    }\n",
       "</style>\n",
       "<table border=\"1\" class=\"dataframe\">\n",
       "  <thead>\n",
       "    <tr style=\"text-align: right;\">\n",
       "      <th></th>\n",
       "      <th>count</th>\n",
       "      <th>mean</th>\n",
       "      <th>std</th>\n",
       "      <th>min</th>\n",
       "      <th>25%</th>\n",
       "      <th>50%</th>\n",
       "      <th>75%</th>\n",
       "      <th>max</th>\n",
       "    </tr>\n",
       "  </thead>\n",
       "  <tbody>\n",
       "    <tr>\n",
       "      <th>Store</th>\n",
       "      <td>844338.0</td>\n",
       "      <td>558.421374</td>\n",
       "      <td>321.730861</td>\n",
       "      <td>1.000000</td>\n",
       "      <td>280.000000</td>\n",
       "      <td>558.00</td>\n",
       "      <td>837.000000</td>\n",
       "      <td>1115.000000</td>\n",
       "    </tr>\n",
       "    <tr>\n",
       "      <th>DayOfWeek</th>\n",
       "      <td>844338.0</td>\n",
       "      <td>3.520350</td>\n",
       "      <td>1.723712</td>\n",
       "      <td>1.000000</td>\n",
       "      <td>2.000000</td>\n",
       "      <td>3.00</td>\n",
       "      <td>5.000000</td>\n",
       "      <td>7.000000</td>\n",
       "    </tr>\n",
       "    <tr>\n",
       "      <th>Sales</th>\n",
       "      <td>844338.0</td>\n",
       "      <td>6955.959134</td>\n",
       "      <td>3103.815515</td>\n",
       "      <td>46.000000</td>\n",
       "      <td>4859.000000</td>\n",
       "      <td>6369.00</td>\n",
       "      <td>8360.000000</td>\n",
       "      <td>41551.000000</td>\n",
       "    </tr>\n",
       "    <tr>\n",
       "      <th>Customers</th>\n",
       "      <td>844338.0</td>\n",
       "      <td>762.777166</td>\n",
       "      <td>401.194153</td>\n",
       "      <td>8.000000</td>\n",
       "      <td>519.000000</td>\n",
       "      <td>676.00</td>\n",
       "      <td>893.000000</td>\n",
       "      <td>7388.000000</td>\n",
       "    </tr>\n",
       "    <tr>\n",
       "      <th>Open</th>\n",
       "      <td>844338.0</td>\n",
       "      <td>1.000000</td>\n",
       "      <td>0.000000</td>\n",
       "      <td>1.000000</td>\n",
       "      <td>1.000000</td>\n",
       "      <td>1.00</td>\n",
       "      <td>1.000000</td>\n",
       "      <td>1.000000</td>\n",
       "    </tr>\n",
       "    <tr>\n",
       "      <th>Promo</th>\n",
       "      <td>844338.0</td>\n",
       "      <td>0.446356</td>\n",
       "      <td>0.497114</td>\n",
       "      <td>0.000000</td>\n",
       "      <td>0.000000</td>\n",
       "      <td>0.00</td>\n",
       "      <td>1.000000</td>\n",
       "      <td>1.000000</td>\n",
       "    </tr>\n",
       "    <tr>\n",
       "      <th>SchoolHoliday</th>\n",
       "      <td>844338.0</td>\n",
       "      <td>0.193578</td>\n",
       "      <td>0.395102</td>\n",
       "      <td>0.000000</td>\n",
       "      <td>0.000000</td>\n",
       "      <td>0.00</td>\n",
       "      <td>0.000000</td>\n",
       "      <td>1.000000</td>\n",
       "    </tr>\n",
       "    <tr>\n",
       "      <th>Year</th>\n",
       "      <td>844338.0</td>\n",
       "      <td>2013.831945</td>\n",
       "      <td>0.777271</td>\n",
       "      <td>2013.000000</td>\n",
       "      <td>2013.000000</td>\n",
       "      <td>2014.00</td>\n",
       "      <td>2014.000000</td>\n",
       "      <td>2015.000000</td>\n",
       "    </tr>\n",
       "    <tr>\n",
       "      <th>Month</th>\n",
       "      <td>844338.0</td>\n",
       "      <td>5.845774</td>\n",
       "      <td>3.323959</td>\n",
       "      <td>1.000000</td>\n",
       "      <td>3.000000</td>\n",
       "      <td>6.00</td>\n",
       "      <td>8.000000</td>\n",
       "      <td>12.000000</td>\n",
       "    </tr>\n",
       "    <tr>\n",
       "      <th>WeekOfYear</th>\n",
       "      <td>844338.0</td>\n",
       "      <td>23.646946</td>\n",
       "      <td>14.389931</td>\n",
       "      <td>1.000000</td>\n",
       "      <td>11.000000</td>\n",
       "      <td>23.00</td>\n",
       "      <td>35.000000</td>\n",
       "      <td>52.000000</td>\n",
       "    </tr>\n",
       "    <tr>\n",
       "      <th>SalePerCustomer</th>\n",
       "      <td>844338.0</td>\n",
       "      <td>9.493641</td>\n",
       "      <td>2.197448</td>\n",
       "      <td>2.749075</td>\n",
       "      <td>7.895571</td>\n",
       "      <td>9.25</td>\n",
       "      <td>10.899729</td>\n",
       "      <td>64.957854</td>\n",
       "    </tr>\n",
       "    <tr>\n",
       "      <th>CompetitionDistance</th>\n",
       "      <td>844338.0</td>\n",
       "      <td>5450.044852</td>\n",
       "      <td>7801.082007</td>\n",
       "      <td>20.000000</td>\n",
       "      <td>710.000000</td>\n",
       "      <td>2325.00</td>\n",
       "      <td>6880.000000</td>\n",
       "      <td>75860.000000</td>\n",
       "    </tr>\n",
       "    <tr>\n",
       "      <th>CompetitionOpenSinceMonth</th>\n",
       "      <td>844338.0</td>\n",
       "      <td>4.926482</td>\n",
       "      <td>4.283634</td>\n",
       "      <td>0.000000</td>\n",
       "      <td>0.000000</td>\n",
       "      <td>4.00</td>\n",
       "      <td>9.000000</td>\n",
       "      <td>12.000000</td>\n",
       "    </tr>\n",
       "    <tr>\n",
       "      <th>CompetitionOpenSinceYear</th>\n",
       "      <td>844338.0</td>\n",
       "      <td>1369.692738</td>\n",
       "      <td>935.556484</td>\n",
       "      <td>0.000000</td>\n",
       "      <td>0.000000</td>\n",
       "      <td>2006.00</td>\n",
       "      <td>2011.000000</td>\n",
       "      <td>2015.000000</td>\n",
       "    </tr>\n",
       "    <tr>\n",
       "      <th>Promo2</th>\n",
       "      <td>844338.0</td>\n",
       "      <td>0.498670</td>\n",
       "      <td>0.499999</td>\n",
       "      <td>0.000000</td>\n",
       "      <td>0.000000</td>\n",
       "      <td>0.00</td>\n",
       "      <td>1.000000</td>\n",
       "      <td>1.000000</td>\n",
       "    </tr>\n",
       "    <tr>\n",
       "      <th>Promo2SinceWeek</th>\n",
       "      <td>844338.0</td>\n",
       "      <td>11.596159</td>\n",
       "      <td>15.308101</td>\n",
       "      <td>0.000000</td>\n",
       "      <td>0.000000</td>\n",
       "      <td>0.00</td>\n",
       "      <td>22.000000</td>\n",
       "      <td>50.000000</td>\n",
       "    </tr>\n",
       "    <tr>\n",
       "      <th>Promo2SinceYear</th>\n",
       "      <td>844338.0</td>\n",
       "      <td>1003.201259</td>\n",
       "      <td>1005.874685</td>\n",
       "      <td>0.000000</td>\n",
       "      <td>0.000000</td>\n",
       "      <td>0.00</td>\n",
       "      <td>2012.000000</td>\n",
       "      <td>2015.000000</td>\n",
       "    </tr>\n",
       "  </tbody>\n",
       "</table>\n",
       "</div>"
      ],
      "text/plain": [
       "                              count         mean          std          min  \\\n",
       "Store                      844338.0   558.421374   321.730861     1.000000   \n",
       "DayOfWeek                  844338.0     3.520350     1.723712     1.000000   \n",
       "Sales                      844338.0  6955.959134  3103.815515    46.000000   \n",
       "Customers                  844338.0   762.777166   401.194153     8.000000   \n",
       "Open                       844338.0     1.000000     0.000000     1.000000   \n",
       "Promo                      844338.0     0.446356     0.497114     0.000000   \n",
       "SchoolHoliday              844338.0     0.193578     0.395102     0.000000   \n",
       "Year                       844338.0  2013.831945     0.777271  2013.000000   \n",
       "Month                      844338.0     5.845774     3.323959     1.000000   \n",
       "WeekOfYear                 844338.0    23.646946    14.389931     1.000000   \n",
       "SalePerCustomer            844338.0     9.493641     2.197448     2.749075   \n",
       "CompetitionDistance        844338.0  5450.044852  7801.082007    20.000000   \n",
       "CompetitionOpenSinceMonth  844338.0     4.926482     4.283634     0.000000   \n",
       "CompetitionOpenSinceYear   844338.0  1369.692738   935.556484     0.000000   \n",
       "Promo2                     844338.0     0.498670     0.499999     0.000000   \n",
       "Promo2SinceWeek            844338.0    11.596159    15.308101     0.000000   \n",
       "Promo2SinceYear            844338.0  1003.201259  1005.874685     0.000000   \n",
       "\n",
       "                                   25%      50%          75%           max  \n",
       "Store                       280.000000   558.00   837.000000   1115.000000  \n",
       "DayOfWeek                     2.000000     3.00     5.000000      7.000000  \n",
       "Sales                      4859.000000  6369.00  8360.000000  41551.000000  \n",
       "Customers                   519.000000   676.00   893.000000   7388.000000  \n",
       "Open                          1.000000     1.00     1.000000      1.000000  \n",
       "Promo                         0.000000     0.00     1.000000      1.000000  \n",
       "SchoolHoliday                 0.000000     0.00     0.000000      1.000000  \n",
       "Year                       2013.000000  2014.00  2014.000000   2015.000000  \n",
       "Month                         3.000000     6.00     8.000000     12.000000  \n",
       "WeekOfYear                   11.000000    23.00    35.000000     52.000000  \n",
       "SalePerCustomer               7.895571     9.25    10.899729     64.957854  \n",
       "CompetitionDistance         710.000000  2325.00  6880.000000  75860.000000  \n",
       "CompetitionOpenSinceMonth     0.000000     4.00     9.000000     12.000000  \n",
       "CompetitionOpenSinceYear      0.000000  2006.00  2011.000000   2015.000000  \n",
       "Promo2                        0.000000     0.00     1.000000      1.000000  \n",
       "Promo2SinceWeek               0.000000     0.00    22.000000     50.000000  \n",
       "Promo2SinceYear               0.000000     0.00  2012.000000   2015.000000  "
      ]
     },
     "execution_count": 46,
     "metadata": {},
     "output_type": "execute_result"
    }
   ],
   "source": [
    "#  statistics of train Store \n",
    "df_Train_Store.describe().transpose()"
   ]
  },
  {
   "cell_type": "code",
   "execution_count": 38,
   "id": "69d6f0da",
   "metadata": {},
   "outputs": [
    {
     "name": "stderr",
     "output_type": "stream",
     "text": [
      "<ipython-input-38-84526b281e53>:2: FutureWarning: Indexing with multiple keys (implicitly converted to a tuple of keys) will be deprecated, use a list instead.\n",
      "  a=df_Train_Store.groupby('StoreType')['Customers', 'Sales'].sum()\n"
     ]
    },
    {
     "data": {
      "text/html": [
       "<div>\n",
       "<style scoped>\n",
       "    .dataframe tbody tr th:only-of-type {\n",
       "        vertical-align: middle;\n",
       "    }\n",
       "\n",
       "    .dataframe tbody tr th {\n",
       "        vertical-align: top;\n",
       "    }\n",
       "\n",
       "    .dataframe thead th {\n",
       "        text-align: right;\n",
       "    }\n",
       "</style>\n",
       "<table border=\"1\" class=\"dataframe\">\n",
       "  <thead>\n",
       "    <tr style=\"text-align: right;\">\n",
       "      <th></th>\n",
       "      <th>Customers</th>\n",
       "      <th>Sales</th>\n",
       "    </tr>\n",
       "    <tr>\n",
       "      <th>StoreType</th>\n",
       "      <th></th>\n",
       "      <th></th>\n",
       "    </tr>\n",
       "  </thead>\n",
       "  <tbody>\n",
       "    <tr>\n",
       "      <th>a</th>\n",
       "      <td>363541431</td>\n",
       "      <td>3165334859</td>\n",
       "    </tr>\n",
       "    <tr>\n",
       "      <th>b</th>\n",
       "      <td>31465616</td>\n",
       "      <td>159231395</td>\n",
       "    </tr>\n",
       "    <tr>\n",
       "      <th>c</th>\n",
       "      <td>92129705</td>\n",
       "      <td>783221426</td>\n",
       "    </tr>\n",
       "    <tr>\n",
       "      <th>d</th>\n",
       "      <td>156904995</td>\n",
       "      <td>1765392943</td>\n",
       "    </tr>\n",
       "  </tbody>\n",
       "</table>\n",
       "</div>"
      ],
      "text/plain": [
       "           Customers       Sales\n",
       "StoreType                       \n",
       "a          363541431  3165334859\n",
       "b           31465616   159231395\n",
       "c           92129705   783221426\n",
       "d          156904995  1765392943"
      ]
     },
     "execution_count": 38,
     "metadata": {},
     "output_type": "execute_result"
    }
   ],
   "source": [
    "#  total sum of Sales and Customers for each store type\n",
    "a=df_Train_Store.groupby('StoreType')['Customers', 'Sales'].sum()\n",
    "a.head()"
   ]
  },
  {
   "cell_type": "code",
   "execution_count": 44,
   "id": "ec0aee7d",
   "metadata": {},
   "outputs": [
    {
     "data": {
      "text/plain": [
       "Text(0.5, 0, 'store  type')"
      ]
     },
     "execution_count": 44,
     "metadata": {},
     "output_type": "execute_result"
    },
    {
     "data": {
      "image/png": "[encoded data removed]",
      "text/plain": [
       "<Figure size 432x288 with 1 Axes>"
      ]
     },
     "metadata": {
      "needs_background": "light"
     },
     "output_type": "display_data"
    }
   ],
   "source": [
    "a.plot(kind='bar', stacked=True)\n",
    "plt.title(\"Sales and Customers across stores\")\n",
    "plt.xlabel(\"store  type\")\n"
   ]
  },
  {
   "cell_type": "code",
   "execution_count": 41,
   "id": "4095f61e",
   "metadata": {},
   "outputs": [
    {
     "data": {
      "text/plain": [
       "Text(0.5, 1.0, 'no of customers across diffrent StoreType')"
      ]
     },
     "execution_count": 41,
     "metadata": {},
     "output_type": "execute_result"
    },
    {
     "data": {
      "image/png": "[encoded data removed]",
      "text/plain": [
       "<Figure size 432x288 with 1 Axes>"
      ]
     },
     "metadata": {
      "needs_background": "light"
     },
     "output_type": "display_data"
    },
    {
     "data": {
      "image/png": "[encoded data removed]",
      "text/plain": [
       "<Figure size 1080x288 with 2 Axes>"
      ]
     },
     "metadata": {
      "needs_background": "light"
     },
     "output_type": "display_data"
    }
   ],
   "source": [
    "# store type\n",
    "sns.countplot(x='StoreType', data=df_Train_Store, order=['a','b','c', 'd'], palette = [\"#95a5a6\", \"#e74c3c\", \"#34495e\", \"#2ecc71\"]).set_title('a count plot of StoreTypes')\n",
    "\n",
    "fig, (axis1,axis2) = plt.subplots(1,2,figsize=(15,4))\n",
    "sns.barplot(x='StoreType', y='Sales', data=df_Train_Store, ax=axis1, palette = [\"#95a5a6\", \"#e74c3c\", \"#34495e\", \"#2ecc71\"], order=['a','b','c', 'd']).set_title('sales across different StoreType')\n",
    "sns.barplot(x='StoreType', y='Customers', data=df_Train_Store, ax=axis2, palette = [\"#95a5a6\", \"#e74c3c\", \"#34495e\", \"#2ecc71\"], order=['a','b','c', 'd']).set_title('no of customers across diffrent StoreType')"
   ]
  },
  {
   "cell_type": "markdown",
   "id": "eb480bc7",
   "metadata": {},
   "source": [
    "store type b is the least popular while a is the most popular. but b's sales are higher compared to the rest."
   ]
  },
  {
   "cell_type": "code",
   "execution_count": 50,
   "id": "b8549755",
   "metadata": {},
   "outputs": [
    {
     "data": {
      "text/plain": [
       "<seaborn.axisgrid.FacetGrid at 0x2753c1fddf0>"
      ]
     },
     "execution_count": 50,
     "metadata": {},
     "output_type": "execute_result"
    },
    {
     "data": {
      "image/png": "[encoded data removed]",
      "text/plain": [
       "<Figure size 1440x720 with 8 Axes>"
      ]
     },
     "metadata": {
      "needs_background": "light"
     },
     "output_type": "display_data"
    }
   ],
   "source": [
    "# ploting the montly data of the number Customers when there is a promo and when there isn't one\n",
    "sns.catplot(y='Customers', x='Month', data=df_Train_Store, kind='point',\n",
    "            col='StoreType', row='Promo', hue='StoreType')"
   ]
  },
  {
   "cell_type": "code",
   "execution_count": 51,
   "id": "0640f4cf",
   "metadata": {},
   "outputs": [
    {
     "data": {
      "text/plain": [
       "array(['0', 'a', 'b', 'c'], dtype=object)"
      ]
     },
     "execution_count": 51,
     "metadata": {},
     "output_type": "execute_result"
    }
   ],
   "source": [
    "df_Train_Store['StateHoliday'].unique()"
   ]
  },
  {
   "cell_type": "markdown",
   "id": "9c11bc2f",
   "metadata": {},
   "source": [
    "#### Correlation"
   ]
  },
  {
   "cell_type": "code",
   "execution_count": 52,
   "id": "e9193e97",
   "metadata": {},
   "outputs": [
    {
     "name": "stdout",
     "output_type": "stream",
     "text": [
      "top 6 features with highest correlation with sales\n"
     ]
    },
    {
     "data": {
      "image/png": "[encoded data removed]",
      "text/plain": [
       "<Figure size 576x432 with 2 Axes>"
      ]
     },
     "metadata": {},
     "output_type": "display_data"
    }
   ],
   "source": [
    "def correlation_map(f_data, f_feature, f_number):\n",
    "    f_most_correlated = f_data.corr().nlargest(f_number,f_feature)[f_feature].index\n",
    "    f_correlation = f_data[f_most_correlated].corr()\n",
    "    \n",
    "    f_mask = np.zeros_like(f_correlation)\n",
    "    f_mask[np.triu_indices_from(f_mask)] = True\n",
    "    with sns.axes_style(\"white\"):\n",
    "        f_fig, f_ax = plt.subplots(figsize=(8, 6))\n",
    "        f_ax = sns.heatmap(f_correlation, mask=f_mask, vmin=0, vmax=1, square=True,\n",
    "                           annot=True, annot_kws={\"size\": 10}, cmap=\"BuPu\")\n",
    "\n",
    "    plt.show()\n",
    "\n",
    "print('top 6 features with highest correlation with sales')\n",
    "correlation_map(df_Train_Store, 'Sales', 6)"
   ]
  },
  {
   "cell_type": "markdown",
   "id": "7c2630c6",
   "metadata": {},
   "source": [
    "#### promo affecting sales"
   ]
  },
  {
   "cell_type": "markdown",
   "id": "575a5e29",
   "metadata": {},
   "source": [
    "Sales and Customers have a high correlation. In the follow up plots"
   ]
  },
  {
   "cell_type": "code",
   "execution_count": 54,
   "id": "2c37e7db",
   "metadata": {},
   "outputs": [
    {
     "data": {
      "text/plain": [
       "Text(0.5, 1.0, 'customers across different Promo')"
      ]
     },
     "execution_count": 54,
     "metadata": {},
     "output_type": "execute_result"
    },
    {
     "data": {
      "image/png": "[encoded data removed]",
      "text/plain": [
       "<Figure size 432x288 with 1 Axes>"
      ]
     },
     "metadata": {
      "needs_background": "light"
     },
     "output_type": "display_data"
    },
    {
     "data": {
      "image/png": "[encoded data removed]",
      "text/plain": [
       "<Figure size 1080x288 with 2 Axes>"
      ]
     },
     "metadata": {
      "needs_background": "light"
     },
     "output_type": "display_data"
    }
   ],
   "source": [
    "#Promo\n",
    "flatui = [\"#9b59b6\", \"#3498db\", \"#95a5a6\", \"#e74c3c\", \"#34495e\", \"#2ecc71\"]\n",
    "sns.countplot(x='Promo', data=df_Train_Store, palette = flatui).set_title('Promo counts')\n",
    "\n",
    "fig, (axis1,axis2) = plt.subplots(1,2,figsize=(15,4))\n",
    "\n",
    "sns.barplot(x='Promo', y='Sales', data=df_Train_Store, palette = flatui, ax=axis1).set_title('sales across different Promo')\n",
    "sns.barplot(x='Promo', y='Customers', data=df_Train_Store, ax=axis2,  palette = flatui).set_title('customers across different Promo')"
   ]
  },
  {
   "cell_type": "code",
   "execution_count": null,
   "id": "9c29bc62",
   "metadata": {},
   "outputs": [],
   "source": []
  }
 ],
 "metadata": {
  "kernelspec": {
   "display_name": "Python 3",
   "language": "python",
   "name": "python3"
  },
  "language_info": {
   "codemirror_mode": {
    "name": "ipython",
    "version": 3
   },
   "file_extension": ".py",
   "mimetype": "text/x-python",
   "name": "python",
   "nbconvert_exporter": "python",
   "pygments_lexer": "ipython3",
   "version": "3.8.8"
  }
 },
 "nbformat": 4,
 "nbformat_minor": 5
}
